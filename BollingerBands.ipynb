{
 "cells": [
  {
   "cell_type": "code",
   "execution_count": 1,
   "metadata": {},
   "outputs": [],
   "source": [
    "import numpy as np\n",
    "import pandas as pd\n",
    "import matplotlib.pyplot as plt\n",
    "import quandl as qdl\n",
    "import plotly.graph_objects as go\n",
    "from plotly.offline import init_notebook_mode,iplot"
   ]
  },
  {
   "cell_type": "code",
   "execution_count": null,
   "metadata": {},
   "outputs": [],
   "source": [
    "api = qdl.ApiConfig.api_key = \"Your Key\"\n",
    "start = '2000-1-1'\n",
    "end = '2020-4-1'\n",
    "msft=qdl.get('EOD/MSFT',start_date=start,end_date=end)\n",
    "msftCopy = msft"
   ]
  },
  {
   "cell_type": "code",
   "execution_count": null,
   "metadata": {},
   "outputs": [],
   "source": [
    "class BollingerBandsSimulator:\n",
    "\n",
    "    def __init__(self, df_original, from_date, window_size, no_of_std, figsize=(20,10)):\n",
    "        self.df = df_original\n",
    "        self.from_date = from_date\n",
    "        self.window_size = window_size\n",
    "        self.no_of_std = no_of_std\n",
    "        self.figsize = figsize\n",
    "        self.sharpe_ratio = None\n",
    "        self.returns = None\n",
    "                \n",
    "    def _build_bollinger_bands(self):\n",
    "        rolling_mean = self.df['Close'].rolling(self.window_size).mean()\n",
    "        rolling_std = self.df['Close'].rolling(self.window_size).std()\n",
    "\n",
    "        self.df['Rolling Mean'] = rolling_mean\n",
    "        self.df['Bollinger High'] = rolling_mean + (rolling_std * self.no_of_std)\n",
    "        self.df['Bollinger Low'] = rolling_mean - (rolling_std * self.no_of_std)\n",
    "\n",
    "    def _calculate_positions(self):\n",
    "            # create a new column in the DataFrame to hold signal information\n",
    "            self.df['Signal'] = None\n",
    "            self.df['Position'] = None\n",
    "            mode = 'neutral'\n",
    "            self.df['R'] = None\n",
    "            for index in range(len(msft)):\n",
    "                if index == 0:\n",
    "                    continue\n",
    "                row = self.df.iloc[index]\n",
    "                prev_row = self.df.iloc[index - 1]\n",
    "                self.df.iloc[index,self.df.columns.get_loc('R')] = (row['Close']-prev_row['Close'])/prev_row['Close']\n",
    "                \n",
    "            for index in range(len(msft)):\n",
    "                if index == 0:\n",
    "                    continue\n",
    "\n",
    "                row = self.df.iloc[index]\n",
    "                prev_row = self.df.iloc[index - 1]\n",
    "                ## Entering a position\n",
    "\n",
    "                # long\n",
    "                if mode == 'neutral' and row['R'] < 0:\n",
    "                    self.df.iloc[index, self.df.columns.get_loc('Signal')] = 1\n",
    "                    self.df.iloc[index, self.df.columns.get_loc('Position')] = 1\n",
    "                    mode = 'long'\n",
    "\n",
    "                # short\n",
    "                elif mode == 'neutral' and row['R'] > 0:\n",
    "                    self.df.iloc[index, self.df.columns.get_loc('Signal')] = -1\n",
    "                    self.df.iloc[index, self.df.columns.get_loc('Position')] = -1\n",
    "                    mode = 'short'\n",
    "\n",
    "                ## Exiting a position\n",
    "                elif mode == 'long' and row['R'] > 0:\n",
    "                    self.df.iloc[index, self.df.columns.get_loc('Signal')] = -1\n",
    "                    self.df.iloc[index, self.df.columns.get_loc('Position')] = 0\n",
    "                    mode = 'neutral'\n",
    "\n",
    "                elif mode == 'short' and row['R'] < 0:\n",
    "                    self.df.iloc[index, self.df.columns.get_loc('Signal')] = 1\n",
    "                    self.df.iloc[index, self.df.columns.get_loc('Position')] = 0\n",
    "                    mode = 'neutral'    \n",
    "\n",
    "                else:\n",
    "                    self.df.iloc[index, self.df.columns.get_loc('Position')] = self.df.iloc[index-1, self.df.columns.get_loc('Position')]        \n",
    "\n",
    "\n",
    "\n",
    "    def _calculate_returns(self):\n",
    "        self.df['Returns']=self.df['Signal']**2*self.df['Close']\n",
    "        self.df['Returns'].fillna(method='ffill', inplace=True)\n",
    "        self.df['Returns']=self.df['Returns'].pct_change()*self.df['Position'].shift()\n",
    "        self.df['Returns']=self.df['Returns'].fillna(value=0)\n",
    "        self.returns = self.df['Returns'].dropna()\n",
    "        # Removing all the zero returns i.e. where we never traded\n",
    "        self.returns=self.returns[self.returns!=0]\n",
    "        self.sharpe_ratio = self.returns.mean()/(self.returns.var())**(1/2)\n",
    "        \n",
    "\n",
    "    def _plot_returns(self):\n",
    "        self.df['Returns'].cumsum().plot(figsize=self.figsize)\n",
    "\n",
    "    def simulate(self):\n",
    "        self._build_bollinger_bands()\n",
    "        self._calculate_positions()\n",
    "        self._calculate_returns()\n",
    "        self._plot_returns()\n",
    "\n",
    "        return (\n",
    "            self.window_size, \n",
    "            self.no_of_std, \n",
    "            self.sharpe_ratio\n",
    "        )"
   ]
  },
  {
   "cell_type": "code",
   "execution_count": null,
   "metadata": {},
   "outputs": [],
   "source": [
    "simulator = BollingerBandsSimulator(\n",
    "    df_original=msft, \n",
    "    from_date=\"2002-01-01\", \n",
    "    window_size=10, \n",
    "    no_of_std=1.5\n",
    ")\n",
    "simulator.simulate()\n",
    "# plt.savefig(\"Returns_cumsum_2.png\")\n",
    "\n",
    "# The graph shows that we have a net return of 60% in 5 years"
   ]
  },
  {
   "cell_type": "code",
   "execution_count": null,
   "metadata": {},
   "outputs": [],
   "source": [
    "msft['Returns'].plot(figsize=(20,10))\n",
    "# plt.savefig(\"Returns2.png\")"
   ]
  },
  {
   "cell_type": "code",
   "execution_count": null,
   "metadata": {},
   "outputs": [],
   "source": [
    "msft['Returns_cumsum'] = msft['Returns'].cumsum()"
   ]
  },
  {
   "cell_type": "code",
   "execution_count": null,
   "metadata": {
    "scrolled": false
   },
   "outputs": [],
   "source": [
    "msft"
   ]
  },
  {
   "cell_type": "code",
   "execution_count": null,
   "metadata": {},
   "outputs": [],
   "source": []
  },
  {
   "cell_type": "code",
   "execution_count": null,
   "metadata": {},
   "outputs": [],
   "source": []
  }
 ],
 "metadata": {
  "kernelspec": {
   "display_name": "Python 3",
   "language": "python",
   "name": "python3"
  },
  "language_info": {
   "codemirror_mode": {
    "name": "ipython",
    "version": 3
   },
   "file_extension": ".py",
   "mimetype": "text/x-python",
   "name": "python",
   "nbconvert_exporter": "python",
   "pygments_lexer": "ipython3",
   "version": "3.8.4"
  }
 },
 "nbformat": 4,
 "nbformat_minor": 4
}
